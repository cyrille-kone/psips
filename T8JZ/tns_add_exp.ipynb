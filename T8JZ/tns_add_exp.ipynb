{
 "cells": [
  {
   "cell_type": "code",
   "execution_count": 3,
   "id": "5b071e72",
   "metadata": {
    "ExecuteTime": {
     "end_time": "2024-12-02T19:19:49.979684Z",
     "start_time": "2024-12-02T19:19:49.965888Z"
    }
   },
   "outputs": [],
   "source": [
    "import sys\n",
    "sys.path.append('../')\n",
    "import json\n",
    "import numpy as np\n",
    "from pathlib import Path\n",
    "from ext.utils import COVBOOST_BANDIT\n",
    "from ext.algos import batch_tns, batch_auer"
   ]
  },
  {
   "cell_type": "markdown",
   "source": [
    "##### Run TnS algorithm of Crepon et al (2024) on the instance"
   ],
   "metadata": {
    "collapsed": false
   }
  },
  {
   "cell_type": "code",
   "execution_count": null,
   "outputs": [],
   "source": [
    "delta = 0.01\n",
    "numiter = 100\n",
    "seeds = (np.random.uniform(size=numiter)*2**31).astype(int)\n",
    "res = batch_tns(COVBOOST_BANDIT.arms_means, seeds, delta=delta, cov=COVBOOST_BANDIT.cov, re_norm=True)\n",
    "(avg_acc, avg_sc), sc_std = res.mean(0), res.std(0)[-1]\n",
    "print(f\"Average acc : {avg_acc:.2f} | Average sc : {avg_sc:.2f} ± {sc_std:.2f}\")"
   ],
   "metadata": {
    "collapsed": false
   }
  },
  {
   "cell_type": "markdown",
   "source": [
    "##### Extends the current results with the additional experiment"
   ],
   "metadata": {
    "collapsed": false
   }
  },
  {
   "cell_type": "code",
   "execution_count": 10,
   "outputs": [],
   "source": [
    "__fname__ = \"../mcovboost_d01_g5k\"\n",
    "f = open(Path() / f\"{__fname__}.json\")\n",
    "parsed = json.load(f)\n",
    "# add the new result to the json object\n",
    "parsed[\"algo\"][\"TNS\"] = {\"duration\": None, \"result\": res.tolist()}"
   ],
   "metadata": {
    "collapsed": false,
    "ExecuteTime": {
     "end_time": "2024-12-02T19:22:37.934258Z",
     "start_time": "2024-12-02T19:22:37.932289Z"
    }
   }
  },
  {
   "cell_type": "code",
   "execution_count": 11,
   "outputs": [],
   "source": [
    "with open(Path() / f\"{__fname__}_plus_TnS.json\", \"w\") as fs:\n",
    "    fs.write(json.dumps(parsed))"
   ],
   "metadata": {
    "collapsed": false,
    "ExecuteTime": {
     "end_time": "2024-12-02T19:22:41.041101Z",
     "start_time": "2024-12-02T19:22:41.038049Z"
    }
   }
  },
  {
   "cell_type": "code",
   "execution_count": null,
   "outputs": [],
   "source": [],
   "metadata": {
    "collapsed": false
   }
  }
 ],
 "metadata": {
  "kernelspec": {
   "display_name": "Python 3 (ipykernel)",
   "language": "python",
   "name": "python3"
  },
  "language_info": {
   "codemirror_mode": {
    "name": "ipython",
    "version": 3
   },
   "file_extension": ".py",
   "mimetype": "text/x-python",
   "name": "python",
   "nbconvert_exporter": "python",
   "pygments_lexer": "ipython3",
   "version": "3.10.9"
  }
 },
 "nbformat": 4,
 "nbformat_minor": 5
}
