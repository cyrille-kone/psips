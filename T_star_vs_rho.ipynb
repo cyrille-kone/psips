{
 "cells": [
  {
   "cell_type": "code",
   "execution_count": 2,
   "metadata": {
    "ExecuteTime": {
     "end_time": "2024-12-02T06:57:21.602466Z",
     "start_time": "2024-12-02T06:57:20.501652Z"
    }
   },
   "outputs": [],
   "source": [
    "import numpy as np\n",
    "import matplotlib.pyplot as plt\n",
    "from utils import is_non_dominated\n",
    "from joblib import Parallel, delayed\n",
    "from plot_figs import get_default_fig\n",
    "from lbd import cpt_lbd_correl, cpt_lb_ind"
   ]
  },
  {
   "cell_type": "code",
   "execution_count": 3,
   "metadata": {
    "collapsed": false,
    "jupyter": {
     "outputs_hidden": false
    },
    "ExecuteTime": {
     "end_time": "2024-12-02T06:57:22.308073Z",
     "start_time": "2024-12-02T06:57:22.301753Z"
    }
   },
   "outputs": [],
   "source": [
    "K, d = 5, 2\n",
    "𝝻  = arms_means = np.array([[ 0.72875559,  1.20119222],\n",
    "                            [0.45524805, -0.63317069],\n",
    "                            [0.62826926,  1.27683777],\n",
    "                            [0.94570734,  2.31592981],\n",
    "                            [ 2.08131887,  1.4809387 ]])\n",
    "ps_mask = is_non_dominated(arms_means)\n",
    "arms = np.arange(K)\n",
    "ps = arms[ps_mask]\n",
    "non_ps = arms[~ps_mask]"
   ]
  },
  {
   "cell_type": "markdown",
   "source": [
    "##### Compute the characteristic time $T^*[\\theta, \\rho]$"
   ],
   "metadata": {
    "collapsed": false
   }
  },
  {
   "cell_type": "code",
   "execution_count": 4,
   "metadata": {
    "ExecuteTime": {
     "end_time": "2024-12-02T06:58:35.611379Z",
     "start_time": "2024-12-02T06:57:24.013810Z"
    }
   },
   "outputs": [
    {
     "name": "stderr",
     "output_type": "stream",
     "text": [
      "[Parallel(n_jobs=-1)]: Using backend LokyBackend with 8 concurrent workers.\n",
      "/Users/cyrille.kone/anaconda3/lib/python3.10/site-packages/qpsolvers/conversions/ensure_sparse_matrices.py:24: UserWarning: Converted P to scipy.sparse.csc.csc_matrix\n",
      "For best performance, build P as a scipy.sparse.csc_matrix rather than as a numpy.ndarray\n",
      "  warnings.warn(\n",
      "/Users/cyrille.kone/anaconda3/lib/python3.10/site-packages/qpsolvers/conversions/ensure_sparse_matrices.py:24: UserWarning: Converted G to scipy.sparse.csc.csc_matrix\n",
      "For best performance, build G as a scipy.sparse.csc_matrix rather than as a numpy.ndarray\n",
      "  warnings.warn(\n",
      "/Users/cyrille.kone/anaconda3/lib/python3.10/site-packages/qpsolvers/conversions/ensure_sparse_matrices.py:24: UserWarning: Converted P to scipy.sparse.csc.csc_matrix\n",
      "For best performance, build P as a scipy.sparse.csc_matrix rather than as a numpy.ndarray\n",
      "  warnings.warn(\n",
      "/Users/cyrille.kone/anaconda3/lib/python3.10/site-packages/qpsolvers/conversions/ensure_sparse_matrices.py:24: UserWarning: Converted G to scipy.sparse.csc.csc_matrix\n",
      "For best performance, build G as a scipy.sparse.csc_matrix rather than as a numpy.ndarray\n",
      "  warnings.warn(\n",
      "/Users/cyrille.kone/anaconda3/lib/python3.10/site-packages/qpsolvers/conversions/ensure_sparse_matrices.py:24: UserWarning: Converted P to scipy.sparse.csc.csc_matrix\n",
      "For best performance, build P as a scipy.sparse.csc_matrix rather than as a numpy.ndarray\n",
      "  warnings.warn(\n",
      "/Users/cyrille.kone/anaconda3/lib/python3.10/site-packages/qpsolvers/conversions/ensure_sparse_matrices.py:24: UserWarning: Converted G to scipy.sparse.csc.csc_matrix\n",
      "For best performance, build G as a scipy.sparse.csc_matrix rather than as a numpy.ndarray\n",
      "  warnings.warn(\n",
      "/Users/cyrille.kone/anaconda3/lib/python3.10/site-packages/qpsolvers/conversions/ensure_sparse_matrices.py:24: UserWarning: Converted P to scipy.sparse.csc.csc_matrix\n",
      "For best performance, build P as a scipy.sparse.csc_matrix rather than as a numpy.ndarray\n",
      "  warnings.warn(\n",
      "/Users/cyrille.kone/anaconda3/lib/python3.10/site-packages/qpsolvers/conversions/ensure_sparse_matrices.py:24: UserWarning: Converted G to scipy.sparse.csc.csc_matrix\n",
      "For best performance, build G as a scipy.sparse.csc_matrix rather than as a numpy.ndarray\n",
      "  warnings.warn(\n",
      "/Users/cyrille.kone/anaconda3/lib/python3.10/site-packages/qpsolvers/conversions/ensure_sparse_matrices.py:24: UserWarning: Converted P to scipy.sparse.csc.csc_matrix\n",
      "For best performance, build P as a scipy.sparse.csc_matrix rather than as a numpy.ndarray\n",
      "  warnings.warn(\n",
      "/Users/cyrille.kone/anaconda3/lib/python3.10/site-packages/qpsolvers/conversions/ensure_sparse_matrices.py:24: UserWarning: Converted G to scipy.sparse.csc.csc_matrix\n",
      "For best performance, build G as a scipy.sparse.csc_matrix rather than as a numpy.ndarray\n",
      "  warnings.warn(\n",
      "/Users/cyrille.kone/anaconda3/lib/python3.10/site-packages/qpsolvers/conversions/ensure_sparse_matrices.py:24: UserWarning: Converted P to scipy.sparse.csc.csc_matrix\n",
      "For best performance, build P as a scipy.sparse.csc_matrix rather than as a numpy.ndarray\n",
      "  warnings.warn(\n",
      "/Users/cyrille.kone/anaconda3/lib/python3.10/site-packages/qpsolvers/conversions/ensure_sparse_matrices.py:24: UserWarning: Converted G to scipy.sparse.csc.csc_matrix\n",
      "For best performance, build G as a scipy.sparse.csc_matrix rather than as a numpy.ndarray\n",
      "  warnings.warn(\n",
      "/Users/cyrille.kone/anaconda3/lib/python3.10/site-packages/qpsolvers/conversions/ensure_sparse_matrices.py:24: UserWarning: Converted P to scipy.sparse.csc.csc_matrix\n",
      "For best performance, build P as a scipy.sparse.csc_matrix rather than as a numpy.ndarray\n",
      "  warnings.warn(\n",
      "/Users/cyrille.kone/anaconda3/lib/python3.10/site-packages/qpsolvers/conversions/ensure_sparse_matrices.py:24: UserWarning: Converted G to scipy.sparse.csc.csc_matrix\n",
      "For best performance, build G as a scipy.sparse.csc_matrix rather than as a numpy.ndarray\n",
      "  warnings.warn(\n",
      "/Users/cyrille.kone/anaconda3/lib/python3.10/site-packages/qpsolvers/conversions/ensure_sparse_matrices.py:24: UserWarning: Converted P to scipy.sparse.csc.csc_matrix\n",
      "For best performance, build P as a scipy.sparse.csc_matrix rather than as a numpy.ndarray\n",
      "  warnings.warn(\n",
      "/Users/cyrille.kone/anaconda3/lib/python3.10/site-packages/qpsolvers/conversions/ensure_sparse_matrices.py:24: UserWarning: Converted G to scipy.sparse.csc.csc_matrix\n",
      "For best performance, build G as a scipy.sparse.csc_matrix rather than as a numpy.ndarray\n",
      "  warnings.warn(\n",
      "[Parallel(n_jobs=-1)]: Done   6 out of  10 | elapsed:   34.1s remaining:   22.7s\n",
      "[Parallel(n_jobs=-1)]: Done  10 out of  10 | elapsed:   54.0s finished\n",
      "/Users/cyrille.kone/anaconda3/lib/python3.10/site-packages/qpsolvers/conversions/ensure_sparse_matrices.py:24: UserWarning: Converted P to scipy.sparse.csc.csc_matrix\n",
      "For best performance, build P as a scipy.sparse.csc_matrix rather than as a numpy.ndarray\n",
      "  warnings.warn(\n",
      "/Users/cyrille.kone/anaconda3/lib/python3.10/site-packages/qpsolvers/conversions/ensure_sparse_matrices.py:24: UserWarning: Converted G to scipy.sparse.csc.csc_matrix\n",
      "For best performance, build G as a scipy.sparse.csc_matrix rather than as a numpy.ndarray\n",
      "  warnings.warn(\n"
     ]
    }
   ],
   "source": [
    "nval = 10\n",
    "rho = np.linspace(-3+1e-4, 1-1e-5, nval)\n",
    "niter = 5000\n",
    "def wrp_rho(k, niter):\n",
    "    Z = np.ones((d, d)) *(1+rho[k])/2\n",
    "    np.fill_diagonal(Z, np.ones(d))\n",
    "    return (cpt_lbd_correl(𝝻, Z, niter=niter)[1], k)\n",
    "res_rho = Parallel(n_jobs=-1, verbose=1)(delayed(wrp_rho)(k, niter) for k in range(nval))\n",
    "res_rho = np.array(sorted(res_rho, key=lambda x: x[-1]))\n",
    "T_ref  = cpt_lbd_correl(𝝻, np.diag(np.ones(d)), niter=niter)[1]"
   ]
  },
  {
   "cell_type": "code",
   "execution_count": 5,
   "metadata": {
    "ExecuteTime": {
     "end_time": "2024-12-02T06:59:05.421936Z",
     "start_time": "2024-12-02T06:59:03.474100Z"
    }
   },
   "outputs": [
    {
     "data": {
      "text/plain": "<Figure size 640x480 with 0 Axes>"
     },
     "metadata": {},
     "output_type": "display_data"
    },
    {
     "data": {
      "text/plain": "<Figure size 500x400 with 1 Axes>",
      "image/png": "[encoded data removed]"
     },
     "metadata": {},
     "output_type": "display_data"
    }
   ],
   "source": [
    "fig = get_default_fig()\n",
    "plt.scatter((1+rho)/2, T_ref/res_rho[:,0], marker=\"v\")\n",
    "plt.xlabel(r\"$\\rho$\")\n",
    "plt.ylabel(r\"$\\frac{T^*(\\theta, 0)}{T^*(\\theta, \\rho)}$\"); \n",
    "eps = -0.02\n",
    "plt.axhline(min(T_ref/res_rho[:,0])+eps, color=\".3\", dashes=(2, 2))\n",
    "plt.yticks(list(plt.yticks()[0]) + [eps + min(T_ref/res_rho[:,0])])\n",
    "fig.savefig(\"out/figs/T_star_vs_rho2.pdf\", transparent=True, dpi=2000,\n",
    "                edgecolor='black', backend=\"pgf\", format=\"pdf\")"
   ]
  },
  {
   "cell_type": "code",
   "execution_count": 6,
   "outputs": [
    {
     "data": {
      "text/plain": "[(-0.9999499999999999, 3.3173204001782306),\n (-0.7777338888888887, 1.802059193664005),\n (-0.5555177777777778, 1.4055700585575828),\n (-0.3333016666666666, 1.1927141942669008),\n (-0.11108555555555555, 1.0544007482211117),\n (0.11113055555555551, 0.952962366964561),\n (0.3333466666666667, 0.8755999872998621),\n (0.5555627777777776, 0.8144177316841575),\n (0.7777788888888888, 0.7652823170695038),\n (0.999995, 0.7264944402784882)]"
     },
     "execution_count": 6,
     "metadata": {},
     "output_type": "execute_result"
    }
   ],
   "source": [
    "list(zip((1+rho)/2, T_ref/res_rho[:,0]));"
   ],
   "metadata": {
    "collapsed": false,
    "ExecuteTime": {
     "end_time": "2024-12-02T07:04:07.145408Z",
     "start_time": "2024-12-02T07:04:07.129118Z"
    }
   }
  },
  {
   "cell_type": "code",
   "execution_count": null,
   "outputs": [],
   "source": [],
   "metadata": {
    "collapsed": false
   }
  }
 ],
 "metadata": {
  "kernelspec": {
   "display_name": "Python 3 (ipykernel)",
   "language": "python",
   "name": "python3"
  },
  "language_info": {
   "codemirror_mode": {
    "name": "ipython",
    "version": 3
   },
   "file_extension": ".py",
   "mimetype": "text/x-python",
   "name": "python",
   "nbconvert_exporter": "python",
   "pygments_lexer": "ipython3",
   "version": "3.9.2"
  }
 },
 "nbformat": 4,
 "nbformat_minor": 4
}
