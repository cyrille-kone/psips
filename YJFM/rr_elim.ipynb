{
 "cells": [
  {
   "cell_type": "code",
   "execution_count": 1,
   "id": "5b071e72",
   "metadata": {
    "ExecuteTime": {
     "end_time": "2024-12-02T08:26:03.950946Z",
     "start_time": "2024-12-02T08:26:03.092855Z"
    }
   },
   "outputs": [],
   "source": [
    "import json\n",
    "import numpy as np\n",
    "from pathlib import Path\n",
    "from utils import COVBOOST_BANDIT\n",
    "from algos import batch_tns, batch_auer"
   ]
  },
  {
   "cell_type": "markdown",
   "source": [
    "##### Run Auer's algorithm on the instance"
   ],
   "metadata": {
    "collapsed": false
   }
  },
  {
   "cell_type": "code",
   "execution_count": 8,
   "outputs": [
    {
     "name": "stdout",
     "output_type": "stream",
     "text": [
      "Average acc : 1.00 | Average sc : 45401.29 ± 11023.72\n"
     ]
    }
   ],
   "source": [
    "delta = 0.01\n",
    "numiter = 100\n",
    "seeds = (np.random.uniform(size=numiter)*2**31).astype(int)\n",
    "res = batch_auer(COVBOOST_BANDIT, seeds, delta=delta)\n",
    "(avg_acc, avg_sc), sc_std = res.mean(0), res.std(0)[-1]\n",
    "print(f\"Average acc : {avg_acc:.2f} | Average sc : {avg_sc:.2f} ± {sc_std:.2f}\")"
   ],
   "metadata": {
    "collapsed": false,
    "ExecuteTime": {
     "end_time": "2024-12-02T08:50:24.693460Z",
     "start_time": "2024-12-02T08:48:48.077565Z"
    }
   }
  },
  {
   "cell_type": "markdown",
   "source": [
    "##### Extends the current results with the experiment on Auer's algorithm"
   ],
   "metadata": {
    "collapsed": false
   }
  },
  {
   "cell_type": "code",
   "execution_count": 6,
   "outputs": [],
   "source": [
    "__fname__ = \"mcovboost_d001_g5k\"\n",
    "f = open(Path() / f\"{__fname__}.json\")\n",
    "parsed = json.load(f)\n",
    "# add the new result to the json object\n",
    "parsed[\"algo\"][\"AUER\"] = {\"duration\": None, \"result\": res.tolist()}"
   ],
   "metadata": {
    "collapsed": false,
    "ExecuteTime": {
     "end_time": "2024-12-02T08:44:45.003215Z",
     "start_time": "2024-12-02T08:44:45.001133Z"
    }
   }
  },
  {
   "cell_type": "code",
   "execution_count": 7,
   "outputs": [],
   "source": [
    "with open(Path() / f\"{__fname__}_plus_Auer.json\", \"w\") as fs:\n",
    "    #fs.write(json.dumps(parsed))"
   ],
   "metadata": {
    "collapsed": false,
    "ExecuteTime": {
     "end_time": "2024-12-02T08:44:46.252086Z",
     "start_time": "2024-12-02T08:44:46.247270Z"
    }
   }
  },
  {
   "cell_type": "code",
   "execution_count": null,
   "outputs": [],
   "source": [],
   "metadata": {
    "collapsed": false
   }
  }
 ],
 "metadata": {
  "kernelspec": {
   "display_name": "Python 3 (ipykernel)",
   "language": "python",
   "name": "python3"
  },
  "language_info": {
   "codemirror_mode": {
    "name": "ipython",
    "version": 3
   },
   "file_extension": ".py",
   "mimetype": "text/x-python",
   "name": "python",
   "nbconvert_exporter": "python",
   "pygments_lexer": "ipython3",
   "version": "3.10.9"
  }
 },
 "nbformat": 4,
 "nbformat_minor": 5
}
