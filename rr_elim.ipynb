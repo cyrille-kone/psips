{
 "cells": [
  {
   "cell_type": "code",
   "execution_count": 2,
   "id": "5b071e72",
   "metadata": {
    "ExecuteTime": {
     "end_time": "2024-12-02T07:29:27.455042Z",
     "start_time": "2024-12-02T07:29:26.533487Z"
    }
   },
   "outputs": [],
   "source": [
    "import json\n",
    "import numpy as np\n",
    "from pathlib import Path\n",
    "from utils import COVBOOST_BANDIT\n",
    "from algos import batch_tns, batch_auer"
   ]
  },
  {
   "cell_type": "markdown",
   "source": [
    "##### Run Auer's algorithm on the instance"
   ],
   "metadata": {
    "collapsed": false
   }
  },
  {
   "cell_type": "code",
   "execution_count": 1,
   "outputs": [
    {
     "ename": "NameError",
     "evalue": "name 'np' is not defined",
     "output_type": "error",
     "traceback": [
      "\u001B[0;31m---------------------------------------------------------------------------\u001B[0m",
      "\u001B[0;31mNameError\u001B[0m                                 Traceback (most recent call last)",
      "Cell \u001B[0;32mIn[1], line 3\u001B[0m\n\u001B[1;32m      1\u001B[0m delta \u001B[38;5;241m=\u001B[39m \u001B[38;5;241m0.01\u001B[39m\n\u001B[1;32m      2\u001B[0m numiter \u001B[38;5;241m=\u001B[39m \u001B[38;5;241m10\u001B[39m\n\u001B[0;32m----> 3\u001B[0m seeds \u001B[38;5;241m=\u001B[39m (\u001B[43mnp\u001B[49m\u001B[38;5;241m.\u001B[39mrandom\u001B[38;5;241m.\u001B[39muniform(size\u001B[38;5;241m=\u001B[39mnumiter)\u001B[38;5;241m*\u001B[39m\u001B[38;5;241m2\u001B[39m\u001B[38;5;241m*\u001B[39m\u001B[38;5;241m*\u001B[39m\u001B[38;5;241m31\u001B[39m)\u001B[38;5;241m.\u001B[39mastype(\u001B[38;5;28mint\u001B[39m)\n\u001B[1;32m      4\u001B[0m res \u001B[38;5;241m=\u001B[39m batch_auer(COVBOOST_BANDIT, seeds, delta\u001B[38;5;241m=\u001B[39mdelta)\n\u001B[1;32m      5\u001B[0m (avg_acc, avg_sc), sc_std \u001B[38;5;241m=\u001B[39m res\u001B[38;5;241m.\u001B[39mmean(\u001B[38;5;241m0\u001B[39m), res\u001B[38;5;241m.\u001B[39mstd(\u001B[38;5;241m0\u001B[39m)[\u001B[38;5;241m-\u001B[39m\u001B[38;5;241m1\u001B[39m]\n",
      "\u001B[0;31mNameError\u001B[0m: name 'np' is not defined"
     ]
    }
   ],
   "source": [
    "delta = 0.01\n",
    "numiter = 10\n",
    "seeds = (np.random.uniform(size=numiter)*2**31).astype(int)\n",
    "res = batch_auer(COVBOOST_BANDIT, seeds, delta=delta)\n",
    "(avg_acc, avg_sc), sc_std = res.mean(0), res.std(0)[-1]\n",
    "print(f\"Average acc : {avg_acc:.2f} | Average sc : {avg_sc:.2f} ± {sc_std:.2f}\")"
   ],
   "metadata": {
    "collapsed": false,
    "ExecuteTime": {
     "end_time": "2024-12-02T07:29:22.703199Z",
     "start_time": "2024-12-02T07:29:22.535933Z"
    }
   }
  },
  {
   "cell_type": "markdown",
   "source": [
    "##### Extends the current results with the experiment on Auer's algorithm"
   ],
   "metadata": {
    "collapsed": false
   }
  },
  {
   "cell_type": "code",
   "execution_count": 28,
   "outputs": [],
   "source": [
    "#__fname__ = \"mcovboost_d001_g5k\"\n",
    "#f = open(Path() / f\"{__fname__}.json\")\n",
    "#parsed = json.load(f)\n",
    "# add the new result to the json object\n",
    "#parsed[\"algo\"][\"AUER\"] = {\"duration\": None, \"result\": res.tolist()}"
   ],
   "metadata": {
    "collapsed": false,
    "ExecuteTime": {
     "end_time": "2024-12-02T05:20:59.604660Z",
     "start_time": "2024-12-02T05:16:19.753587Z"
    }
   }
  },
  {
   "cell_type": "code",
   "execution_count": 30,
   "outputs": [],
   "source": [
    "#with open(Path() / f\"{__fname__}_plus_Auer.json\", \"w\") as fs:\n",
    "    #fs.write(json.dumps(parsed))"
   ],
   "metadata": {
    "collapsed": false,
    "ExecuteTime": {
     "end_time": "2024-12-02T05:21:21.772831Z",
     "start_time": "2024-12-02T05:21:21.766300Z"
    }
   }
  }
 ],
 "metadata": {
  "kernelspec": {
   "display_name": "Python 3 (ipykernel)",
   "language": "python",
   "name": "python3"
  },
  "language_info": {
   "codemirror_mode": {
    "name": "ipython",
    "version": 3
   },
   "file_extension": ".py",
   "mimetype": "text/x-python",
   "name": "python",
   "nbconvert_exporter": "python",
   "pygments_lexer": "ipython3",
   "version": "3.10.9"
  }
 },
 "nbformat": 4,
 "nbformat_minor": 5
}
