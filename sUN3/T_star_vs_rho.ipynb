{
 "cells": [
  {
   "cell_type": "code",
   "execution_count": 8,
   "metadata": {
    "ExecuteTime": {
     "end_time": "2024-12-02T20:31:16.114071Z",
     "start_time": "2024-12-02T20:31:16.106072Z"
    }
   },
   "outputs": [],
   "source": [
    "import sys\n",
    "sys.path.append('../')\n",
    "import numpy as np\n",
    "import matplotlib.pyplot as plt\n",
    "from joblib import Parallel, delayed\n",
    "from ext.utils import is_non_dominated\n",
    "from ext.plot_figs import get_default_fig\n",
    "from ext.lbd import cpt_lbd_correl, cpt_lb_ind"
   ]
  },
  {
   "cell_type": "code",
   "execution_count": 9,
   "metadata": {
    "collapsed": false,
    "jupyter": {
     "outputs_hidden": false
    },
    "ExecuteTime": {
     "end_time": "2024-12-02T20:31:16.645824Z",
     "start_time": "2024-12-02T20:31:16.643776Z"
    }
   },
   "outputs": [],
   "source": [
    "K, d = 5, 2\n",
    "𝝻  = arms_means = np.array([[ 0.72875559,  1.20119222],\n",
    "                            [0.45524805, -0.63317069],\n",
    "                            [0.62826926,  1.27683777],\n",
    "                            [0.94570734,  2.31592981],\n",
    "                            [ 2.08131887,  1.4809387 ]])\n",
    "ps_mask = is_non_dominated(arms_means)\n",
    "arms = np.arange(K)\n",
    "ps = arms[ps_mask]\n",
    "non_ps = arms[~ps_mask]"
   ]
  },
  {
   "cell_type": "markdown",
   "source": [
    "##### Compute the characteristic time $T^*[\\theta, \\rho]$"
   ],
   "metadata": {
    "collapsed": false
   }
  },
  {
   "cell_type": "code",
   "execution_count": 10,
   "metadata": {
    "ExecuteTime": {
     "end_time": "2024-12-02T20:31:43.652758Z",
     "start_time": "2024-12-02T20:31:18.265515Z"
    }
   },
   "outputs": [
    {
     "name": "stderr",
     "output_type": "stream",
     "text": [
      "[Parallel(n_jobs=-1)]: Using backend LokyBackend with 8 concurrent workers.\n",
      "[Parallel(n_jobs=-1)]: Done   6 out of  10 | elapsed:    5.6s remaining:    3.7s\n",
      "[Parallel(n_jobs=-1)]: Done  10 out of  10 | elapsed:    7.4s finished\n"
     ]
    }
   ],
   "source": [
    "nval = 10\n",
    "rho = np.linspace(-3+1e-4, 1-1e-5, nval)\n",
    "niter = 500\n",
    "def wrp_rho(k, niter):\n",
    "    Z = np.ones((d, d)) *(1+rho[k])/2\n",
    "    np.fill_diagonal(Z, np.ones(d))\n",
    "    return (cpt_lbd_correl(𝝻, Z, niter=niter)[1], k)\n",
    "res_rho = Parallel(n_jobs=-1, verbose=1)(delayed(wrp_rho)(k, niter) for k in range(nval))\n",
    "res_rho = np.array(sorted(res_rho, key=lambda x: x[-1]))\n",
    "T_ref  = cpt_lbd_correl(𝝻, np.diag(np.ones(d)), niter=niter)[1]"
   ]
  },
  {
   "cell_type": "code",
   "execution_count": 11,
   "metadata": {
    "ExecuteTime": {
     "end_time": "2024-12-02T20:31:45.115467Z",
     "start_time": "2024-12-02T20:31:43.680230Z"
    }
   },
   "outputs": [
    {
     "data": {
      "text/plain": "<Figure size 640x480 with 0 Axes>"
     },
     "metadata": {},
     "output_type": "display_data"
    },
    {
     "data": {
      "text/plain": "<Figure size 500x400 with 1 Axes>",
      "image/png": "[encoded data removed]"
     },
     "metadata": {},
     "output_type": "display_data"
    }
   ],
   "source": [
    "fig = get_default_fig()\n",
    "plt.scatter((1+rho)/2, T_ref/res_rho[:,0], marker=\"v\")\n",
    "plt.xlabel(r\"$\\rho$\")\n",
    "plt.ylabel(r\"$\\frac{T^*(\\boldsymbol{\\mu}, \\Sigma_0)}{T^*(\\boldsymbol{\\mu}, \\Sigma_\\rho)}$\");\n",
    "eps = -0.02\n",
    "plt.axhline(min(T_ref/res_rho[:,0])+eps, color=\".3\", dashes=(2, 2))\n",
    "plt.yticks(list(plt.yticks()[0]) + [eps + min(T_ref/res_rho[:,0])])\n",
    "fig.savefig(\"T_rho.pdf\", transparent=True, dpi=2000,\n",
    "                edgecolor='black', backend=\"pgf\", format=\"pdf\")"
   ]
  },
  {
   "cell_type": "code",
   "execution_count": 12,
   "outputs": [
    {
     "data": {
      "text/plain": "[(-0.9999499999999999, 3.3255850551674078),\n (-0.7777338888888887, 1.808065388333969),\n (-0.5555177777777778, 1.408274175572226),\n (-0.3333016666666666, 1.198206159853685),\n (-0.11108555555555555, 1.057042373150299),\n (0.11113055555555551, 0.957287277856945),\n (0.3333466666666667, 0.8797808981394729),\n (0.5555627777777776, 0.8174752623917693),\n (0.7777788888888888, 0.7681669130783287),\n (0.999995, 0.7274333345854871)]"
     },
     "execution_count": 12,
     "metadata": {},
     "output_type": "execute_result"
    }
   ],
   "source": [
    "list(zip((1+rho)/2, T_ref/res_rho[:,0]))"
   ],
   "metadata": {
    "collapsed": false,
    "ExecuteTime": {
     "end_time": "2024-12-02T20:31:54.086240Z",
     "start_time": "2024-12-02T20:31:54.067606Z"
    }
   }
  },
  {
   "cell_type": "code",
   "execution_count": null,
   "outputs": [],
   "source": [],
   "metadata": {
    "collapsed": false
   }
  }
 ],
 "metadata": {
  "kernelspec": {
   "display_name": "Python 3 (ipykernel)",
   "language": "python",
   "name": "python3"
  },
  "language_info": {
   "codemirror_mode": {
    "name": "ipython",
    "version": 3
   },
   "file_extension": ".py",
   "mimetype": "text/x-python",
   "name": "python",
   "nbconvert_exporter": "python",
   "pygments_lexer": "ipython3",
   "version": "3.9.2"
  }
 },
 "nbformat": 4,
 "nbformat_minor": 4
}
